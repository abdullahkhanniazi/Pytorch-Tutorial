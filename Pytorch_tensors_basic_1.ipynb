{
  "nbformat": 4,
  "nbformat_minor": 0,
  "metadata": {
    "colab": {
      "provenance": [],
      "gpuType": "T4",
      "authorship_tag": "ABX9TyM6PsKZY3IerZkG4RaWCU2m",
      "include_colab_link": true
    },
    "kernelspec": {
      "name": "python3",
      "display_name": "Python 3"
    },
    "language_info": {
      "name": "python"
    },
    "accelerator": "GPU"
  },
  "cells": [
    {
      "cell_type": "markdown",
      "metadata": {
        "id": "view-in-github",
        "colab_type": "text"
      },
      "source": [
        "<a href=\"https://colab.research.google.com/github/abdullahkhanniazi/Pytorch-Tutorial/blob/main/Pytorch_tensors_basic_1.ipynb\" target=\"_parent\"><img src=\"https://colab.research.google.com/assets/colab-badge.svg\" alt=\"Open In Colab\"/></a>"
      ]
    },
    {
      "cell_type": "code",
      "execution_count": null,
      "metadata": {
        "colab": {
          "base_uri": "https://localhost:8080/"
        },
        "id": "9Eccd16Whi8-",
        "outputId": "aea8627a-a25a-44aa-ddf2-44f548916d46"
      },
      "outputs": [
        {
          "output_type": "stream",
          "name": "stdout",
          "text": [
            "2.5.1+cu124\n"
          ]
        }
      ],
      "source": [
        "import torch\n",
        "print(torch.__version__)\n"
      ]
    },
    {
      "cell_type": "code",
      "source": [
        "if torch.cuda.is_available():\n",
        "    print('CUDA is available')\n",
        "    print(f\"Using GPU: {torch.cuda.get_device_name()}\")\n",
        "else:\n",
        "    print('CUDA is not available')"
      ],
      "metadata": {
        "colab": {
          "base_uri": "https://localhost:8080/"
        },
        "id": "vtp3Ia50icut",
        "outputId": "87d662db-3f72-4f69-a6e1-ac62ed9abb02"
      },
      "execution_count": null,
      "outputs": [
        {
          "output_type": "stream",
          "name": "stdout",
          "text": [
            "CUDA is available\n",
            "Using GPU: Tesla T4\n"
          ]
        }
      ]
    },
    {
      "cell_type": "markdown",
      "source": [
        "## Creating Tensors"
      ],
      "metadata": {
        "id": "hzF5wIftjdFh"
      }
    },
    {
      "cell_type": "code",
      "source": [
        "# using empty\n",
        "te = torch.empty(2,3)\n",
        "print(te)\n",
        "type(te)"
      ],
      "metadata": {
        "colab": {
          "base_uri": "https://localhost:8080/"
        },
        "id": "BW6NEj4Rjcs7",
        "outputId": "748ee302-2c1c-413a-fd69-57f3e5e3ca66"
      },
      "execution_count": null,
      "outputs": [
        {
          "output_type": "stream",
          "name": "stdout",
          "text": [
            "tensor([[1.5716e-33, 0.0000e+00, 1.6118e-33],\n",
            "        [0.0000e+00, 0.0000e+00, 1.8514e-37]])\n"
          ]
        },
        {
          "output_type": "execute_result",
          "data": {
            "text/plain": [
              "torch.Tensor"
            ]
          },
          "metadata": {},
          "execution_count": 5
        }
      ]
    },
    {
      "cell_type": "code",
      "source": [
        "# Using zeros\n",
        "tz = torch.zeros(2,3)\n",
        "tz"
      ],
      "metadata": {
        "colab": {
          "base_uri": "https://localhost:8080/"
        },
        "id": "ZJC5ayRElZbG",
        "outputId": "a38fc3fc-3038-4a6c-883e-aa7e81b9601e"
      },
      "execution_count": null,
      "outputs": [
        {
          "output_type": "execute_result",
          "data": {
            "text/plain": [
              "tensor([[0., 0., 0.],\n",
              "        [0., 0., 0.]])"
            ]
          },
          "metadata": {},
          "execution_count": 7
        }
      ]
    },
    {
      "cell_type": "markdown",
      "source": [
        "## Practice stuff"
      ],
      "metadata": {
        "id": "HS3BlWhwxjwz"
      }
    },
    {
      "cell_type": "code",
      "source": [],
      "metadata": {
        "id": "Ptd9rwZtxmcs"
      },
      "execution_count": null,
      "outputs": []
    }
  ]
}